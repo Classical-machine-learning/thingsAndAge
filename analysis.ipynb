{
 "cells": [
  {
   "cell_type": "code",
   "execution_count": 1,
   "id": "loose-insider",
   "metadata": {
    "execution": {
     "iopub.execute_input": "2021-04-24T18:11:19.608577Z",
     "iopub.status.busy": "2021-04-24T18:11:19.608352Z",
     "iopub.status.idle": "2021-04-24T18:11:19.773851Z",
     "shell.execute_reply": "2021-04-24T18:11:19.773420Z",
     "shell.execute_reply.started": "2021-04-24T18:11:19.608516Z"
    }
   },
   "outputs": [],
   "source": [
    "from pathlib import Path\n",
    "import pandas as pd\n",
    "import matplotlib.pyplot as plt"
   ]
  },
  {
   "cell_type": "code",
   "execution_count": 2,
   "id": "governmental-setup",
   "metadata": {
    "execution": {
     "iopub.execute_input": "2021-04-24T18:11:53.996533Z",
     "iopub.status.busy": "2021-04-24T18:11:53.996331Z",
     "iopub.status.idle": "2021-04-24T18:11:53.999143Z",
     "shell.execute_reply": "2021-04-24T18:11:53.998715Z",
     "shell.execute_reply.started": "2021-04-24T18:11:53.996517Z"
    }
   },
   "outputs": [],
   "source": [
    "d_path = Path(\"/media/hdd/Datasets/thingsByAge\")"
   ]
  },
  {
   "cell_type": "markdown",
   "id": "logical-carry",
   "metadata": {},
   "source": [
    "# Getting data"
   ]
  },
  {
   "cell_type": "markdown",
   "id": "identified-brain",
   "metadata": {},
   "source": [
    "## Nobels"
   ]
  },
  {
   "cell_type": "code",
   "execution_count": 66,
   "id": "western-rescue",
   "metadata": {
    "execution": {
     "iopub.execute_input": "2021-04-24T18:22:53.543709Z",
     "iopub.status.busy": "2021-04-24T18:22:53.542977Z",
     "iopub.status.idle": "2021-04-24T18:22:53.576429Z",
     "shell.execute_reply": "2021-04-24T18:22:53.575598Z",
     "shell.execute_reply.started": "2021-04-24T18:22:53.543618Z"
    }
   },
   "outputs": [],
   "source": [
    "nob = pd.read_csv(d_path/'nobels.csv')"
   ]
  },
  {
   "cell_type": "code",
   "execution_count": 67,
   "id": "forty-samoa",
   "metadata": {
    "execution": {
     "iopub.execute_input": "2021-04-24T18:22:53.701189Z",
     "iopub.status.busy": "2021-04-24T18:22:53.700744Z",
     "iopub.status.idle": "2021-04-24T18:22:53.722716Z",
     "shell.execute_reply": "2021-04-24T18:22:53.722205Z",
     "shell.execute_reply.started": "2021-04-24T18:22:53.701137Z"
    }
   },
   "outputs": [
    {
     "data": {
      "text/html": [
       "<div>\n",
       "<style scoped>\n",
       "    .dataframe tbody tr th:only-of-type {\n",
       "        vertical-align: middle;\n",
       "    }\n",
       "\n",
       "    .dataframe tbody tr th {\n",
       "        vertical-align: top;\n",
       "    }\n",
       "\n",
       "    .dataframe thead th {\n",
       "        text-align: right;\n",
       "    }\n",
       "</style>\n",
       "<table border=\"1\" class=\"dataframe\">\n",
       "  <thead>\n",
       "    <tr style=\"text-align: right;\">\n",
       "      <th></th>\n",
       "      <th>Year</th>\n",
       "      <th>Category</th>\n",
       "      <th>Prize</th>\n",
       "      <th>Motivation</th>\n",
       "      <th>Prize Share</th>\n",
       "      <th>Laureate ID</th>\n",
       "      <th>Laureate Type</th>\n",
       "      <th>Full Name</th>\n",
       "      <th>Birth Date</th>\n",
       "      <th>Birth City</th>\n",
       "      <th>Birth Country</th>\n",
       "      <th>Sex</th>\n",
       "      <th>Organization Name</th>\n",
       "      <th>Organization City</th>\n",
       "      <th>Organization Country</th>\n",
       "      <th>Death Date</th>\n",
       "      <th>Death City</th>\n",
       "      <th>Death Country</th>\n",
       "    </tr>\n",
       "  </thead>\n",
       "  <tbody>\n",
       "    <tr>\n",
       "      <th>0</th>\n",
       "      <td>1901</td>\n",
       "      <td>Chemistry</td>\n",
       "      <td>The Nobel Prize in Chemistry 1901</td>\n",
       "      <td>\"in recognition of the extraordinary services ...</td>\n",
       "      <td>1/1</td>\n",
       "      <td>160</td>\n",
       "      <td>Individual</td>\n",
       "      <td>Jacobus Henricus van 't Hoff</td>\n",
       "      <td>1852-08-30</td>\n",
       "      <td>Rotterdam</td>\n",
       "      <td>Netherlands</td>\n",
       "      <td>Male</td>\n",
       "      <td>Berlin University</td>\n",
       "      <td>Berlin</td>\n",
       "      <td>Germany</td>\n",
       "      <td>1911-03-01</td>\n",
       "      <td>Berlin</td>\n",
       "      <td>Germany</td>\n",
       "    </tr>\n",
       "    <tr>\n",
       "      <th>1</th>\n",
       "      <td>1901</td>\n",
       "      <td>Literature</td>\n",
       "      <td>The Nobel Prize in Literature 1901</td>\n",
       "      <td>\"in special recognition of his poetic composit...</td>\n",
       "      <td>1/1</td>\n",
       "      <td>569</td>\n",
       "      <td>Individual</td>\n",
       "      <td>Sully Prudhomme</td>\n",
       "      <td>1839-03-16</td>\n",
       "      <td>Paris</td>\n",
       "      <td>France</td>\n",
       "      <td>Male</td>\n",
       "      <td>NaN</td>\n",
       "      <td>NaN</td>\n",
       "      <td>NaN</td>\n",
       "      <td>1907-09-07</td>\n",
       "      <td>Châtenay</td>\n",
       "      <td>France</td>\n",
       "    </tr>\n",
       "  </tbody>\n",
       "</table>\n",
       "</div>"
      ],
      "text/plain": [
       "   Year    Category                               Prize  \\\n",
       "0  1901   Chemistry   The Nobel Prize in Chemistry 1901   \n",
       "1  1901  Literature  The Nobel Prize in Literature 1901   \n",
       "\n",
       "                                          Motivation Prize Share  Laureate ID  \\\n",
       "0  \"in recognition of the extraordinary services ...         1/1          160   \n",
       "1  \"in special recognition of his poetic composit...         1/1          569   \n",
       "\n",
       "  Laureate Type                     Full Name  Birth Date Birth City  \\\n",
       "0    Individual  Jacobus Henricus van 't Hoff  1852-08-30  Rotterdam   \n",
       "1    Individual               Sully Prudhomme  1839-03-16      Paris   \n",
       "\n",
       "  Birth Country   Sex  Organization Name Organization City  \\\n",
       "0   Netherlands  Male  Berlin University            Berlin   \n",
       "1        France  Male                NaN               NaN   \n",
       "\n",
       "  Organization Country  Death Date Death City Death Country  \n",
       "0              Germany  1911-03-01     Berlin       Germany  \n",
       "1                  NaN  1907-09-07   Châtenay        France  "
      ]
     },
     "execution_count": 67,
     "metadata": {},
     "output_type": "execute_result"
    }
   ],
   "source": [
    "nob.head(2)"
   ]
  },
  {
   "cell_type": "code",
   "execution_count": 68,
   "id": "alert-ideal",
   "metadata": {
    "execution": {
     "iopub.execute_input": "2021-04-24T18:22:53.842276Z",
     "iopub.status.busy": "2021-04-24T18:22:53.841697Z",
     "iopub.status.idle": "2021-04-24T18:22:53.859284Z",
     "shell.execute_reply": "2021-04-24T18:22:53.858003Z",
     "shell.execute_reply.started": "2021-04-24T18:22:53.842192Z"
    }
   },
   "outputs": [],
   "source": [
    "nob[\"Prize\"] = nob[\"Prize\"].str.split(\" \").str[:-1].str.join(\" \")"
   ]
  },
  {
   "cell_type": "code",
   "execution_count": 69,
   "id": "automatic-knitting",
   "metadata": {
    "execution": {
     "iopub.execute_input": "2021-04-24T18:22:54.205596Z",
     "iopub.status.busy": "2021-04-24T18:22:54.205057Z",
     "iopub.status.idle": "2021-04-24T18:22:54.345820Z",
     "shell.execute_reply": "2021-04-24T18:22:54.345161Z",
     "shell.execute_reply.started": "2021-04-24T18:22:54.205532Z"
    }
   },
   "outputs": [],
   "source": [
    "nob[\"ageWhenPrize\"] = nob[\"Year\"] -nob[\"Birth Date\"].str.split(\"-\", n= 1, expand=True)[0].fillna(0).astype(int)"
   ]
  },
  {
   "cell_type": "code",
   "execution_count": 72,
   "id": "usual-scheduling",
   "metadata": {
    "execution": {
     "iopub.execute_input": "2021-04-24T18:23:51.483453Z",
     "iopub.status.busy": "2021-04-24T18:23:51.483306Z",
     "iopub.status.idle": "2021-04-24T18:23:51.489917Z",
     "shell.execute_reply": "2021-04-24T18:23:51.489548Z",
     "shell.execute_reply.started": "2021-04-24T18:23:51.483436Z"
    }
   },
   "outputs": [],
   "source": [
    "nob[[\"Year\",\"ageWhenPrize\",\"Prize\"]].to_csv(d_path/\"nobels_processed.csv\")"
   ]
  },
  {
   "cell_type": "markdown",
   "id": "downtown-request",
   "metadata": {},
   "source": [
    "## Olympic"
   ]
  },
  {
   "cell_type": "code",
   "execution_count": 73,
   "id": "hazardous-occasions",
   "metadata": {
    "execution": {
     "iopub.execute_input": "2021-04-24T18:34:54.834804Z",
     "iopub.status.busy": "2021-04-24T18:34:54.834309Z",
     "iopub.status.idle": "2021-04-24T18:34:55.188232Z",
     "shell.execute_reply": "2021-04-24T18:34:55.187777Z",
     "shell.execute_reply.started": "2021-04-24T18:34:54.834745Z"
    }
   },
   "outputs": [],
   "source": [
    "ol = pd.read_csv(d_path/'athlete_events.csv')"
   ]
  },
  {
   "cell_type": "code",
   "execution_count": 74,
   "id": "banner-conservation",
   "metadata": {
    "execution": {
     "iopub.execute_input": "2021-04-24T18:35:01.365166Z",
     "iopub.status.busy": "2021-04-24T18:35:01.364989Z",
     "iopub.status.idle": "2021-04-24T18:35:01.375739Z",
     "shell.execute_reply": "2021-04-24T18:35:01.375126Z",
     "shell.execute_reply.started": "2021-04-24T18:35:01.365134Z"
    }
   },
   "outputs": [
    {
     "data": {
      "text/html": [
       "<div>\n",
       "<style scoped>\n",
       "    .dataframe tbody tr th:only-of-type {\n",
       "        vertical-align: middle;\n",
       "    }\n",
       "\n",
       "    .dataframe tbody tr th {\n",
       "        vertical-align: top;\n",
       "    }\n",
       "\n",
       "    .dataframe thead th {\n",
       "        text-align: right;\n",
       "    }\n",
       "</style>\n",
       "<table border=\"1\" class=\"dataframe\">\n",
       "  <thead>\n",
       "    <tr style=\"text-align: right;\">\n",
       "      <th></th>\n",
       "      <th>ID</th>\n",
       "      <th>Name</th>\n",
       "      <th>Sex</th>\n",
       "      <th>Age</th>\n",
       "      <th>Height</th>\n",
       "      <th>Weight</th>\n",
       "      <th>Team</th>\n",
       "      <th>NOC</th>\n",
       "      <th>Games</th>\n",
       "      <th>Year</th>\n",
       "      <th>Season</th>\n",
       "      <th>City</th>\n",
       "      <th>Sport</th>\n",
       "      <th>Event</th>\n",
       "      <th>Medal</th>\n",
       "    </tr>\n",
       "  </thead>\n",
       "  <tbody>\n",
       "    <tr>\n",
       "      <th>0</th>\n",
       "      <td>1</td>\n",
       "      <td>A Dijiang</td>\n",
       "      <td>M</td>\n",
       "      <td>24.0</td>\n",
       "      <td>180.0</td>\n",
       "      <td>80.0</td>\n",
       "      <td>China</td>\n",
       "      <td>CHN</td>\n",
       "      <td>1992 Summer</td>\n",
       "      <td>1992</td>\n",
       "      <td>Summer</td>\n",
       "      <td>Barcelona</td>\n",
       "      <td>Basketball</td>\n",
       "      <td>Basketball Men's Basketball</td>\n",
       "      <td>NaN</td>\n",
       "    </tr>\n",
       "    <tr>\n",
       "      <th>1</th>\n",
       "      <td>2</td>\n",
       "      <td>A Lamusi</td>\n",
       "      <td>M</td>\n",
       "      <td>23.0</td>\n",
       "      <td>170.0</td>\n",
       "      <td>60.0</td>\n",
       "      <td>China</td>\n",
       "      <td>CHN</td>\n",
       "      <td>2012 Summer</td>\n",
       "      <td>2012</td>\n",
       "      <td>Summer</td>\n",
       "      <td>London</td>\n",
       "      <td>Judo</td>\n",
       "      <td>Judo Men's Extra-Lightweight</td>\n",
       "      <td>NaN</td>\n",
       "    </tr>\n",
       "    <tr>\n",
       "      <th>2</th>\n",
       "      <td>3</td>\n",
       "      <td>Gunnar Nielsen Aaby</td>\n",
       "      <td>M</td>\n",
       "      <td>24.0</td>\n",
       "      <td>NaN</td>\n",
       "      <td>NaN</td>\n",
       "      <td>Denmark</td>\n",
       "      <td>DEN</td>\n",
       "      <td>1920 Summer</td>\n",
       "      <td>1920</td>\n",
       "      <td>Summer</td>\n",
       "      <td>Antwerpen</td>\n",
       "      <td>Football</td>\n",
       "      <td>Football Men's Football</td>\n",
       "      <td>NaN</td>\n",
       "    </tr>\n",
       "  </tbody>\n",
       "</table>\n",
       "</div>"
      ],
      "text/plain": [
       "   ID                 Name Sex   Age  Height  Weight     Team  NOC  \\\n",
       "0   1            A Dijiang   M  24.0   180.0    80.0    China  CHN   \n",
       "1   2             A Lamusi   M  23.0   170.0    60.0    China  CHN   \n",
       "2   3  Gunnar Nielsen Aaby   M  24.0     NaN     NaN  Denmark  DEN   \n",
       "\n",
       "         Games  Year  Season       City       Sport  \\\n",
       "0  1992 Summer  1992  Summer  Barcelona  Basketball   \n",
       "1  2012 Summer  2012  Summer     London        Judo   \n",
       "2  1920 Summer  1920  Summer  Antwerpen    Football   \n",
       "\n",
       "                          Event Medal  \n",
       "0   Basketball Men's Basketball   NaN  \n",
       "1  Judo Men's Extra-Lightweight   NaN  \n",
       "2       Football Men's Football   NaN  "
      ]
     },
     "execution_count": 74,
     "metadata": {},
     "output_type": "execute_result"
    }
   ],
   "source": [
    "ol.head(3)"
   ]
  },
  {
   "cell_type": "code",
   "execution_count": 76,
   "id": "sacred-professor",
   "metadata": {
    "execution": {
     "iopub.execute_input": "2021-04-24T18:35:44.704827Z",
     "iopub.status.busy": "2021-04-24T18:35:44.704652Z",
     "iopub.status.idle": "2021-04-24T18:35:45.053558Z",
     "shell.execute_reply": "2021-04-24T18:35:45.053176Z",
     "shell.execute_reply.started": "2021-04-24T18:35:44.704795Z"
    }
   },
   "outputs": [],
   "source": [
    "ol[[\"Age\", \"Year\", \"Sport\"]].to_csv(d_path/'olympic_processed.csv')"
   ]
  },
  {
   "cell_type": "markdown",
   "id": "naughty-roommate",
   "metadata": {},
   "source": [
    "## Suicide"
   ]
  },
  {
   "cell_type": "code",
   "execution_count": 99,
   "id": "approximate-grove",
   "metadata": {
    "execution": {
     "iopub.execute_input": "2021-04-24T18:49:19.060533Z",
     "iopub.status.busy": "2021-04-24T18:49:19.059994Z",
     "iopub.status.idle": "2021-04-24T18:49:19.090636Z",
     "shell.execute_reply": "2021-04-24T18:49:19.090285Z",
     "shell.execute_reply.started": "2021-04-24T18:49:19.060468Z"
    }
   },
   "outputs": [],
   "source": [
    "ol = pd.read_csv(d_path/'who_suicide_statistics.csv')"
   ]
  },
  {
   "cell_type": "code",
   "execution_count": 100,
   "id": "under-photography",
   "metadata": {
    "execution": {
     "iopub.execute_input": "2021-04-24T18:49:19.257426Z",
     "iopub.status.busy": "2021-04-24T18:49:19.257054Z",
     "iopub.status.idle": "2021-04-24T18:49:19.269995Z",
     "shell.execute_reply": "2021-04-24T18:49:19.269377Z",
     "shell.execute_reply.started": "2021-04-24T18:49:19.257381Z"
    }
   },
   "outputs": [
    {
     "data": {
      "text/html": [
       "<div>\n",
       "<style scoped>\n",
       "    .dataframe tbody tr th:only-of-type {\n",
       "        vertical-align: middle;\n",
       "    }\n",
       "\n",
       "    .dataframe tbody tr th {\n",
       "        vertical-align: top;\n",
       "    }\n",
       "\n",
       "    .dataframe thead th {\n",
       "        text-align: right;\n",
       "    }\n",
       "</style>\n",
       "<table border=\"1\" class=\"dataframe\">\n",
       "  <thead>\n",
       "    <tr style=\"text-align: right;\">\n",
       "      <th></th>\n",
       "      <th>country</th>\n",
       "      <th>year</th>\n",
       "      <th>sex</th>\n",
       "      <th>age</th>\n",
       "      <th>suicides_no</th>\n",
       "      <th>population</th>\n",
       "    </tr>\n",
       "  </thead>\n",
       "  <tbody>\n",
       "    <tr>\n",
       "      <th>0</th>\n",
       "      <td>Albania</td>\n",
       "      <td>1985</td>\n",
       "      <td>female</td>\n",
       "      <td>15-24 years</td>\n",
       "      <td>NaN</td>\n",
       "      <td>277900.0</td>\n",
       "    </tr>\n",
       "    <tr>\n",
       "      <th>1</th>\n",
       "      <td>Albania</td>\n",
       "      <td>1985</td>\n",
       "      <td>female</td>\n",
       "      <td>25-34 years</td>\n",
       "      <td>NaN</td>\n",
       "      <td>246800.0</td>\n",
       "    </tr>\n",
       "    <tr>\n",
       "      <th>2</th>\n",
       "      <td>Albania</td>\n",
       "      <td>1985</td>\n",
       "      <td>female</td>\n",
       "      <td>35-54 years</td>\n",
       "      <td>NaN</td>\n",
       "      <td>267500.0</td>\n",
       "    </tr>\n",
       "  </tbody>\n",
       "</table>\n",
       "</div>"
      ],
      "text/plain": [
       "   country  year     sex          age  suicides_no  population\n",
       "0  Albania  1985  female  15-24 years          NaN    277900.0\n",
       "1  Albania  1985  female  25-34 years          NaN    246800.0\n",
       "2  Albania  1985  female  35-54 years          NaN    267500.0"
      ]
     },
     "execution_count": 100,
     "metadata": {},
     "output_type": "execute_result"
    }
   ],
   "source": [
    "ol.head(3)"
   ]
  },
  {
   "cell_type": "code",
   "execution_count": 101,
   "id": "needed-roller",
   "metadata": {
    "execution": {
     "iopub.execute_input": "2021-04-24T18:49:19.805949Z",
     "iopub.status.busy": "2021-04-24T18:49:19.805443Z",
     "iopub.status.idle": "2021-04-24T18:49:19.833185Z",
     "shell.execute_reply": "2021-04-24T18:49:19.832387Z",
     "shell.execute_reply.started": "2021-04-24T18:49:19.805887Z"
    }
   },
   "outputs": [],
   "source": [
    "ol = ol.dropna()"
   ]
  },
  {
   "cell_type": "code",
   "execution_count": 106,
   "id": "northern-detector",
   "metadata": {
    "execution": {
     "iopub.execute_input": "2021-04-24T18:49:50.299471Z",
     "iopub.status.busy": "2021-04-24T18:49:50.299260Z",
     "iopub.status.idle": "2021-04-24T18:49:50.350979Z",
     "shell.execute_reply": "2021-04-24T18:49:50.350461Z",
     "shell.execute_reply.started": "2021-04-24T18:49:50.299448Z"
    }
   },
   "outputs": [],
   "source": [
    "ol[[\"age\", \"year\", \"country\"]].to_csv(d_path/'suicides_processed.csv')"
   ]
  },
  {
   "cell_type": "markdown",
   "id": "stopped-airport",
   "metadata": {},
   "source": [
    "## US salary"
   ]
  },
  {
   "cell_type": "code",
   "execution_count": 113,
   "id": "subtle-worst",
   "metadata": {
    "execution": {
     "iopub.execute_input": "2021-04-24T18:55:19.781469Z",
     "iopub.status.busy": "2021-04-24T18:55:19.781294Z",
     "iopub.status.idle": "2021-04-24T18:55:19.827822Z",
     "shell.execute_reply": "2021-04-24T18:55:19.827365Z",
     "shell.execute_reply.started": "2021-04-24T18:55:19.781437Z"
    }
   },
   "outputs": [],
   "source": [
    "ol = pd.read_csv(d_path/'adult.data', names = [x for x in range(16)])"
   ]
  },
  {
   "cell_type": "code",
   "execution_count": 114,
   "id": "recent-adoption",
   "metadata": {
    "execution": {
     "iopub.execute_input": "2021-04-24T18:55:20.514234Z",
     "iopub.status.busy": "2021-04-24T18:55:20.514091Z",
     "iopub.status.idle": "2021-04-24T18:55:20.523254Z",
     "shell.execute_reply": "2021-04-24T18:55:20.522898Z",
     "shell.execute_reply.started": "2021-04-24T18:55:20.514218Z"
    }
   },
   "outputs": [
    {
     "data": {
      "text/html": [
       "<div>\n",
       "<style scoped>\n",
       "    .dataframe tbody tr th:only-of-type {\n",
       "        vertical-align: middle;\n",
       "    }\n",
       "\n",
       "    .dataframe tbody tr th {\n",
       "        vertical-align: top;\n",
       "    }\n",
       "\n",
       "    .dataframe thead th {\n",
       "        text-align: right;\n",
       "    }\n",
       "</style>\n",
       "<table border=\"1\" class=\"dataframe\">\n",
       "  <thead>\n",
       "    <tr style=\"text-align: right;\">\n",
       "      <th></th>\n",
       "      <th>0</th>\n",
       "      <th>1</th>\n",
       "      <th>2</th>\n",
       "      <th>3</th>\n",
       "      <th>4</th>\n",
       "      <th>5</th>\n",
       "      <th>6</th>\n",
       "      <th>7</th>\n",
       "      <th>8</th>\n",
       "      <th>9</th>\n",
       "      <th>10</th>\n",
       "      <th>11</th>\n",
       "      <th>12</th>\n",
       "      <th>13</th>\n",
       "      <th>14</th>\n",
       "      <th>15</th>\n",
       "    </tr>\n",
       "  </thead>\n",
       "  <tbody>\n",
       "    <tr>\n",
       "      <th>0</th>\n",
       "      <td>39</td>\n",
       "      <td>State-gov</td>\n",
       "      <td>77516</td>\n",
       "      <td>Bachelors</td>\n",
       "      <td>13</td>\n",
       "      <td>Never-married</td>\n",
       "      <td>Adm-clerical</td>\n",
       "      <td>Not-in-family</td>\n",
       "      <td>White</td>\n",
       "      <td>Male</td>\n",
       "      <td>2174</td>\n",
       "      <td>0</td>\n",
       "      <td>40</td>\n",
       "      <td>United-States</td>\n",
       "      <td>&lt;=50K</td>\n",
       "      <td>NaN</td>\n",
       "    </tr>\n",
       "    <tr>\n",
       "      <th>1</th>\n",
       "      <td>50</td>\n",
       "      <td>Self-emp-not-inc</td>\n",
       "      <td>83311</td>\n",
       "      <td>Bachelors</td>\n",
       "      <td>13</td>\n",
       "      <td>Married-civ-spouse</td>\n",
       "      <td>Exec-managerial</td>\n",
       "      <td>Husband</td>\n",
       "      <td>White</td>\n",
       "      <td>Male</td>\n",
       "      <td>0</td>\n",
       "      <td>0</td>\n",
       "      <td>13</td>\n",
       "      <td>United-States</td>\n",
       "      <td>&lt;=50K</td>\n",
       "      <td>NaN</td>\n",
       "    </tr>\n",
       "    <tr>\n",
       "      <th>2</th>\n",
       "      <td>38</td>\n",
       "      <td>Private</td>\n",
       "      <td>215646</td>\n",
       "      <td>HS-grad</td>\n",
       "      <td>9</td>\n",
       "      <td>Divorced</td>\n",
       "      <td>Handlers-cleaners</td>\n",
       "      <td>Not-in-family</td>\n",
       "      <td>White</td>\n",
       "      <td>Male</td>\n",
       "      <td>0</td>\n",
       "      <td>0</td>\n",
       "      <td>40</td>\n",
       "      <td>United-States</td>\n",
       "      <td>&lt;=50K</td>\n",
       "      <td>NaN</td>\n",
       "    </tr>\n",
       "  </tbody>\n",
       "</table>\n",
       "</div>"
      ],
      "text/plain": [
       "   0                  1       2           3   4                    5   \\\n",
       "0  39          State-gov   77516   Bachelors  13        Never-married   \n",
       "1  50   Self-emp-not-inc   83311   Bachelors  13   Married-civ-spouse   \n",
       "2  38            Private  215646     HS-grad   9             Divorced   \n",
       "\n",
       "                   6               7       8      9     10  11  12  \\\n",
       "0        Adm-clerical   Not-in-family   White   Male  2174   0  40   \n",
       "1     Exec-managerial         Husband   White   Male     0   0  13   \n",
       "2   Handlers-cleaners   Not-in-family   White   Male     0   0  40   \n",
       "\n",
       "               13      14  15  \n",
       "0   United-States   <=50K NaN  \n",
       "1   United-States   <=50K NaN  \n",
       "2   United-States   <=50K NaN  "
      ]
     },
     "execution_count": 114,
     "metadata": {},
     "output_type": "execute_result"
    }
   ],
   "source": [
    "ol.head(3)"
   ]
  },
  {
   "cell_type": "code",
   "execution_count": 115,
   "id": "nominated-publisher",
   "metadata": {
    "execution": {
     "iopub.execute_input": "2021-04-24T18:55:29.680998Z",
     "iopub.status.busy": "2021-04-24T18:55:29.680466Z",
     "iopub.status.idle": "2021-04-24T18:55:29.715176Z",
     "shell.execute_reply": "2021-04-24T18:55:29.714284Z",
     "shell.execute_reply.started": "2021-04-24T18:55:29.680934Z"
    }
   },
   "outputs": [],
   "source": [
    "ol = ol.dropna()"
   ]
  },
  {
   "cell_type": "code",
   "execution_count": 118,
   "id": "computational-practice",
   "metadata": {
    "execution": {
     "iopub.execute_input": "2021-04-24T18:57:15.488747Z",
     "iopub.status.busy": "2021-04-24T18:57:15.488611Z",
     "iopub.status.idle": "2021-04-24T18:57:15.492290Z",
     "shell.execute_reply": "2021-04-24T18:57:15.491935Z",
     "shell.execute_reply.started": "2021-04-24T18:57:15.488732Z"
    }
   },
   "outputs": [],
   "source": [
    "ol[[0, 14,6]].to_csv(d_path/'salaryUS_processed.csv')"
   ]
  },
  {
   "cell_type": "markdown",
   "id": "raising-specific",
   "metadata": {},
   "source": [
    "# Analysis"
   ]
  },
  {
   "cell_type": "code",
   "execution_count": null,
   "id": "qualified-surgeon",
   "metadata": {},
   "outputs": [],
   "source": []
  },
  {
   "cell_type": "code",
   "execution_count": null,
   "id": "dental-archive",
   "metadata": {},
   "outputs": [],
   "source": []
  },
  {
   "cell_type": "code",
   "execution_count": null,
   "id": "cooperative-sheet",
   "metadata": {},
   "outputs": [],
   "source": []
  },
  {
   "cell_type": "code",
   "execution_count": null,
   "id": "single-secondary",
   "metadata": {},
   "outputs": [],
   "source": []
  },
  {
   "cell_type": "code",
   "execution_count": null,
   "id": "fleet-foster",
   "metadata": {},
   "outputs": [],
   "source": []
  },
  {
   "cell_type": "code",
   "execution_count": null,
   "id": "suffering-mills",
   "metadata": {},
   "outputs": [],
   "source": []
  },
  {
   "cell_type": "code",
   "execution_count": null,
   "id": "potential-syntax",
   "metadata": {},
   "outputs": [],
   "source": []
  },
  {
   "cell_type": "code",
   "execution_count": null,
   "id": "alive-regulation",
   "metadata": {},
   "outputs": [],
   "source": []
  },
  {
   "cell_type": "code",
   "execution_count": null,
   "id": "dried-fruit",
   "metadata": {},
   "outputs": [],
   "source": []
  },
  {
   "cell_type": "code",
   "execution_count": null,
   "id": "vital-facing",
   "metadata": {},
   "outputs": [],
   "source": []
  },
  {
   "cell_type": "code",
   "execution_count": null,
   "id": "revolutionary-contemporary",
   "metadata": {},
   "outputs": [],
   "source": []
  },
  {
   "cell_type": "code",
   "execution_count": null,
   "id": "assumed-mozambique",
   "metadata": {},
   "outputs": [],
   "source": []
  },
  {
   "cell_type": "code",
   "execution_count": null,
   "id": "junior-wales",
   "metadata": {},
   "outputs": [],
   "source": []
  },
  {
   "cell_type": "code",
   "execution_count": null,
   "id": "different-delta",
   "metadata": {},
   "outputs": [],
   "source": []
  },
  {
   "cell_type": "code",
   "execution_count": null,
   "id": "pediatric-portable",
   "metadata": {},
   "outputs": [],
   "source": []
  },
  {
   "cell_type": "code",
   "execution_count": null,
   "id": "cardiovascular-filename",
   "metadata": {},
   "outputs": [],
   "source": []
  },
  {
   "cell_type": "code",
   "execution_count": null,
   "id": "built-tucson",
   "metadata": {},
   "outputs": [],
   "source": []
  }
 ],
 "metadata": {
  "kernelspec": {
   "display_name": "Python 3",
   "language": "python",
   "name": "python3"
  },
  "language_info": {
   "codemirror_mode": {
    "name": "ipython",
    "version": 3
   },
   "file_extension": ".py",
   "mimetype": "text/x-python",
   "name": "python",
   "nbconvert_exporter": "python",
   "pygments_lexer": "ipython3",
   "version": "3.9.1"
  }
 },
 "nbformat": 4,
 "nbformat_minor": 5
}
